{
 "cells": [
  {
   "cell_type": "code",
   "execution_count": 1,
   "id": "96ab6acf",
   "metadata": {
    "scrolled": false
   },
   "outputs": [
    {
     "name": "stdout",
     "output_type": "stream",
     "text": [
      "Python is a high-level, general-purpose programming language. \n",
      "Its design philosophy emphasizes code readability with the use of significant indentation.\n",
      "Python is dynamically-typed and garbage-collected. \n",
      "It supports multiple programming paradigms, including structured, object-oriented and functional programming.\n"
     ]
    }
   ],
   "source": [
    "f1 = open(r\"D:\\file handling\\new.txt\",\"r\") # read nmode\n",
    "print(f1.read())"
   ]
  },
  {
   "cell_type": "code",
   "execution_count": 2,
   "id": "69dc1ced",
   "metadata": {
    "scrolled": true
   },
   "outputs": [
    {
     "name": "stdout",
     "output_type": "stream",
     "text": [
      "13\n"
     ]
    },
    {
     "data": {
      "text/plain": [
       "True"
      ]
     },
     "execution_count": 2,
     "metadata": {},
     "output_type": "execute_result"
    }
   ],
   "source": [
    "f1 = open(r\"D:\\file handling\\new.txt\", \"a\")  # append mode\n",
    "print(f1.write(\"append mode \\n\"))\n",
    "f1.close()\n",
    "f1.closed"
   ]
  },
  {
   "cell_type": "code",
   "execution_count": 3,
   "id": "00271cdd",
   "metadata": {
    "scrolled": true
   },
   "outputs": [
    {
     "name": "stdout",
     "output_type": "stream",
     "text": [
      "5\n"
     ]
    }
   ],
   "source": [
    "with open(r\"D:\\file handling\\new.txt\", \"a\") as f1:\n",
    "    print(f1.write(\"new \\n\"))\n",
    "f1.close()"
   ]
  },
  {
   "cell_type": "code",
   "execution_count": 4,
   "id": "88ab254c",
   "metadata": {
    "scrolled": true
   },
   "outputs": [
    {
     "name": "stdout",
     "output_type": "stream",
     "text": [
      "Enter how many lines you want to read : 2\n",
      "Python is a high-level, general-purpose programming language. \n",
      "\n",
      "Its design philosophy emphasizes code readability with the use of significant indentation.\n",
      "\n"
     ]
    }
   ],
   "source": [
    "num = int(input(\"Enter how many lines you want to read : \"))\n",
    "f1 = open(r\"D:\\file handling\\new.txt\",\"r\")\n",
    "for i in range(num):\n",
    "    print(f1.readline())\n",
    "f1.close()\n",
    "    "
   ]
  },
  {
   "cell_type": "code",
   "execution_count": 5,
   "id": "23e8ec72",
   "metadata": {},
   "outputs": [
    {
     "name": "stdout",
     "output_type": "stream",
     "text": [
      "Enter how many lines you want to read : 2\n",
      "It supports multiple programming paradigms, including structured, object-oriented and functional programming.append mode \n",
      "\n",
      "new \n",
      "\n"
     ]
    }
   ],
   "source": [
    "num = int(input(\"Enter from which line you want to read : \"))\n",
    "with open(r\"D:\\file handling\\new.txt\") as f1:\n",
    "    for i in (f1.readlines() [-num:]):\n",
    "        print(i)"
   ]
  },
  {
   "cell_type": "code",
   "execution_count": 6,
   "id": "032370fd",
   "metadata": {
    "scrolled": true
   },
   "outputs": [
    {
     "name": "stdout",
     "output_type": "stream",
     "text": [
      "['Python is a high-level, general-purpose programming language. \\n', 'Its design philosophy emphasizes code readability with the use of significant indentation.\\n', 'Python is dynamically-typed and garbage-collected. \\n', 'It supports multiple programming paradigms, including structured, object-oriented and functional programming.append mode \\n', 'new \\n']\n"
     ]
    }
   ],
   "source": [
    "with open(r\"D:\\file handling\\new.txt\",\"r\") as f1:\n",
    "    l1 = f1.readlines()\n",
    "print(l1)"
   ]
  },
  {
   "cell_type": "code",
   "execution_count": 7,
   "id": "1277b267",
   "metadata": {},
   "outputs": [
    {
     "name": "stdout",
     "output_type": "stream",
     "text": [
      "Python is a high-level, general-purpose programming language. \n",
      "Its design philosophy emphasizes code readability with the use of significant indentation.\n",
      "Python is dynamically-typed and garbage-collected. \n",
      "It supports multiple programming paradigms, including structured, object-oriented and functional programming.append mode \n",
      "new \n",
      "\n"
     ]
    }
   ],
   "source": [
    "with open(r\"D:\\file handling\\new.txt\",\"r\") as f1:\n",
    "    var1 = \"\"\n",
    "\n",
    "    for i in range(0,100):\n",
    "        var1 = var1 + f1.read(i)\n",
    "\n",
    "print(var1)"
   ]
  },
  {
   "cell_type": "code",
   "execution_count": 8,
   "id": "3577e8cb",
   "metadata": {},
   "outputs": [
    {
     "name": "stdout",
     "output_type": "stream",
     "text": [
      "programming\n"
     ]
    }
   ],
   "source": [
    "with open(r\"D:\\file handling\\new.txt\",\"r\") as f1:\n",
    "    lw = f1.read().split()\n",
    "max = 0\n",
    "for i in lw:\n",
    "    if len(i)>max and i.isalpha():\n",
    "        max = len(i)\n",
    "        w = i\n",
    "print(w)\n"
   ]
  },
  {
   "cell_type": "code",
   "execution_count": null,
   "id": "78657915",
   "metadata": {},
   "outputs": [],
   "source": []
  },
  {
   "cell_type": "code",
   "execution_count": 1,
   "id": "88c1ff6e",
   "metadata": {},
   "outputs": [
    {
     "name": "stdout",
     "output_type": "stream",
     "text": [
      "5\n"
     ]
    }
   ],
   "source": [
    "with open(r\"D:\\file handling\\new.txt\",\"r\") as f1:\n",
    "    v1=f1.readlines()\n",
    "print(len(v1))\n"
   ]
  },
  {
   "cell_type": "code",
   "execution_count": 9,
   "id": "47ba6ff7",
   "metadata": {},
   "outputs": [
    {
     "name": "stdout",
     "output_type": "stream",
     "text": [
      "Python is a high-level, general-purpose programming language. \n",
      "Its design philosophy emphasizes code readability with the use of significant indentation.\n",
      "Python is dynamically-typed and garbage-collected. \n",
      "It supports multiple programming paradigms, including structured, object-oriented and functional programming.append mode \n",
      "new \n",
      "\n",
      "Enter word to be searched:python\n",
      "Occurrences of the word:\n",
      "0\n"
     ]
    }
   ],
   "source": [
    "f1 = open(r\"D:\\file handling\\new.txt\",\"r\") # read nmode\n",
    "print(f1.read())\n",
    "\n",
    "word=input(\"Enter word to be searched:\")\n",
    "k = 0\n",
    "\n",
    "with open(r\"D:\\file handling\\new.txt\",\"r\") as f1:\n",
    "    for line in f1:\n",
    "        words = line.split()\n",
    "        for i in words:\n",
    "            if(i==word):\n",
    "                k=k+1\n",
    "print(\"Occurrences of the word:\")\n",
    "print(k)\n"
   ]
  },
  {
   "cell_type": "code",
   "execution_count": 12,
   "id": "3fcc46d0",
   "metadata": {},
   "outputs": [],
   "source": [
    "names = ['orange', 'mango', 'Banana']\n",
    "\n",
    "with open(r\"D:\\file handling\\new1.txt\", \"w\") as f1:\n",
    "    for item in names:\n",
    "        f1.write(item)\n",
    "        f1.write(\"\\n\")\n",
    "f1.close()"
   ]
  },
  {
   "cell_type": "code",
   "execution_count": 10,
   "id": "b8c6b253",
   "metadata": {},
   "outputs": [],
   "source": [
    "with open(r\"D:\\file handling\\first.txt\",'r') as firstfile:\n",
    "    with open(r\"D:\\file handling\\second.txt\",'a') as secondfile:\n",
    "        for line in firstfile:\n",
    "            secondfile.write(line)"
   ]
  },
  {
   "cell_type": "code",
   "execution_count": 11,
   "id": "55581b6f",
   "metadata": {},
   "outputs": [
    {
     "name": "stdout",
     "output_type": "stream",
     "text": [
      "enter a odd number :5\n",
      "you are enterning a odd number\n"
     ]
    }
   ],
   "source": [
    "num = int(input(\"enter a odd number :\"))\n",
    "if num%2==0:\n",
    "    raise exception(\"you are entering a even value.\")\n",
    "else:\n",
    "    print(\"you are enterning a odd number\")"
   ]
  },
  {
   "cell_type": "code",
   "execution_count": 29,
   "id": "78cc10a2",
   "metadata": {},
   "outputs": [
    {
     "name": "stdout",
     "output_type": "stream",
     "text": [
      "30\n"
     ]
    }
   ],
   "source": [
    "class Rectangle():\n",
    "    def __init__(self, l, w):\n",
    "        self.length = l\n",
    "        self.width  = w\n",
    "\n",
    "    def rectangle_area(self):\n",
    "        return self.length*self.width\n",
    "r1 = Rectangle(10,3)\n",
    "print(r1.rectangle_area())"
   ]
  },
  {
   "cell_type": "code",
   "execution_count": 30,
   "id": "5c34ee74",
   "metadata": {},
   "outputs": [
    {
     "name": "stdout",
     "output_type": "stream",
     "text": [
      "28.26\n",
      "18.84\n"
     ]
    }
   ],
   "source": [
    "class Circle():\n",
    "    def __init__(self, r):\n",
    "        self.radius = r\n",
    "\n",
    "    def area(self):\n",
    "        return self.radius**2*3.14\n",
    "    \n",
    "    def perimeter(self):\n",
    "        return 2*self.radius*3.14\n",
    "\n",
    "c1 = Circle(3)\n",
    "print(c1.area())\n",
    "print(c1.perimeter())"
   ]
  }
 ],
 "metadata": {
  "kernelspec": {
   "display_name": "Python 3 (ipykernel)",
   "language": "python",
   "name": "python3"
  },
  "language_info": {
   "codemirror_mode": {
    "name": "ipython",
    "version": 3
   },
   "file_extension": ".py",
   "mimetype": "text/x-python",
   "name": "python",
   "nbconvert_exporter": "python",
   "pygments_lexer": "ipython3",
   "version": "3.9.7"
  }
 },
 "nbformat": 4,
 "nbformat_minor": 5
}
